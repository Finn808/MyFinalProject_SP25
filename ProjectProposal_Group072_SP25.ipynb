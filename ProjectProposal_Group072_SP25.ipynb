{
 "cells": [
  {
   "cell_type": "markdown",
   "metadata": {},
   "source": [
    "# COGS 108 - Project Proposal"
   ]
  },
  {
   "cell_type": "markdown",
   "metadata": {},
   "source": [
    "# Names\n",
    "\n",
    "- Finnegan Sullivan A17672893\n",
    "- Nabila Afifah Qotrunnada A18500553\n",
    "- Kalkidan Berhe Gebrekirstos A18484099\n",
    "- Chi-en Kao A18064210\n",
    "- Aziza Hussein A16954820\n"
   ]
  },
  {
   "cell_type": "markdown",
   "metadata": {},
   "source": [
    "# Research Question"
   ]
  },
  {
   "cell_type": "markdown",
   "metadata": {},
   "source": [
    "-  Can a Quarterback's college statistics and NFL combine metrics be used to accurately predict whether they will be drafted into the NFL?\n",
    "- This project aims to answer: What simple features (e.g. college QBR, rushing stats, 40-yard dash) are most associated with being drafted into the NFL?\n",
    "\n",
    "\n"
   ]
  },
  {
   "cell_type": "markdown",
   "metadata": {},
   "source": [
    "## Background and Prior Work"
   ]
  },
  {
   "cell_type": "markdown",
   "metadata": {},
   "source": [
    "NFL teams rely heavily on college statistics and NFL Combine performance when evaluating quarterback talent. However, it’s unclear which specific metrics actually influence draft outcomes. Several prior studies provide insight into this complex decision-making process.\n",
    "\n",
    "Craig & Winchester (2021) found that college passing metrics are the strongest indicators of a quarterback being drafted, while rushing performance better predicts future NFL success. They argue that mobility and rushing ability are undervalued by scouts.<a name=\"#1\"> </a><sup>1</sup>\n",
    "\n",
    "Wolfson et al. (2011) explored the “Quarterback Prediction Problem” and concluded that many draft outcomes do not align with actual NFL performance. They attribute this to a mix of random variation and overemphasis on traits like height and arm strength that may not correlate with success.<a name=\"#2\"> </a><sup>2</sup>\n",
    "\n",
    "More recent studies like those from Sports Info Solutions (2025) show a substantial drop in on-target passing percentages from college to the NFL, suggesting that translating college success to professional performance is not straightforward.<a name=\"#3\"> </a><sup>3</sup>\n",
    "\n",
    "Together, these studies point out the need for a more data-driven approach to draft forecasting. Our project builds on this work by using modern datasets and tools to identify which pre-draft traits are most predictive of quarterback draft status.\n",
    "\n",
    "\n",
    "<a name=\"ref1\">1.</a> Craig, J. D., & Winchester, N. (2021). Predicting the national football league potential of college quarterbacks. European Journal of Operational Research. https://doi.org/10.1016/j.ejor.2021.03.013 ↩\n",
    "<a name=\"ref2\">2.</a> Wolfson, J., Addona, V., & Schmicker, R. (2011). The Quarterback Prediction Problem. Journal of Quantitative Analysis in Sports. https://doi.org/10.2202/1559-0410.1302 ↩\n",
    "<a name=\"ref3\">3.</a> Study Comparing College and NFL On-Target Percentage. Sports Info Solutions (2025). https://www.sportsinfosolutions.com/2025/04/08/study-comparing-college-and-nfl-on-target-percentage/ ↩\n"
   ]
  },
  {
   "cell_type": "markdown",
   "metadata": {},
   "source": [
    "# Hypothesis\n"
   ]
  },
  {
   "cell_type": "markdown",
   "metadata": {},
   "source": [
    "\n",
    "\n",
    "**Null Hypothesis (H₀):** A quarterback’s college statistics and NFL Combine metrics (such as QBR, rushing yards, and 40-yard dash time) have no association with whether they are drafted into the NFL.\n",
    "\n",
    "**Alternative Hypothesis (H₁):** At least one of these features is significantly associated with a quarterback’s likelihood of being drafted.\n",
    "\n",
    "We predict that quarterbacks with higher college QRBs and faster 40 yard dash times are more likely to be drafted, considering the current game plans needing dual threat quarterbacks, which increases their value. We are supporting this hypothesis by Craig & Winchester,  Predicting the national football league potential of college quarterbacks (2021), who found that passing performance is a strong indicator of draft selection, while rushing traits are often undervalued.<a href=\"#ref1\"><sup>1</sup></a>\n",
    "\n",
    "<a name=\"ref1\">1.</a> Craig, J. D., & Winchester, N. (2021). *Predicting the national football league potential of college quarterbacks*. European Journal of Operational Research. https://doi.org/10.1016/j.ejor.2021.03.013\n",
    "\n"
   ]
  },
  {
   "cell_type": "markdown",
   "metadata": {},
   "source": [
    "# Data"
   ]
  },
  {
   "cell_type": "markdown",
   "metadata": {},
   "source": [
    "For this project, our ideal dataset would include quarterback stats from college and their NFL Combine results. We’re mainly looking for things like QBR, passing yards, touchdowns, interceptions, rushing yards, and 40-yard dash times. We also need to know whether or not each quarterback was drafted.\n",
    "\n",
    "We found a few datasets that could help us with this project. One useful dataset is the NFL Combine Results on Kaggle, which includes stats like 40-yard dash and vertical jump from 2000 to 2020. For college stats like passing yards, QBR, and rushing yards, we can use Sports Reference, which has individual player stats. We can also get draft results from Pro-Football-Reference or the NFL website. These datasets don’t come combined, so we’ll need to clean and match the data ourselves using names and years. It’s not perfect, but the info is out there and should be enough for our project.\n"
   ]
  },
  {
   "cell_type": "markdown",
   "metadata": {},
   "source": [
    "# Ethics & Privacy"
   ]
  },
  {
   "cell_type": "markdown",
   "metadata": {},
   "source": [
    "Acknowledge and address any ethics & privacy related issues of your question(s), proposed dataset(s), and/or analyses. Use the information provided in lecture to guide your group discussion and thinking. If you need further guidance, check out Deon's Ethics Checklist. In particular:\n",
    "\n",
    "The data required to answer our research question, which is whether a quarterback's college statistics and NFL combine performance can predict their likelihood of being drafted, is primarily sourced from publicly available databases maintained for the most part by the NCAA, NFL, and third party sports analytics organizations. These sources provide performance metrics such as college passing efficiency, rushing yards, and  NFL combine results sources like the 40 yard dash, vertical leap, which are legally collected and publicly reported. So the data is considered ethical to use within the bounds of this project. Additionally, previous academic research such as Craig & Winchester (2021) used similar types of performance data to investigate draft outcomes, leading support to the relevance of these data sources. However, even though the data itself is public, we remain cautious about how combinations of variables like the college, height, and combine scores could make certain players identifiable,especially in smaller groups.To mitigate these concerns, we will consider recoding variables to reduce specificity like grouping schools by conference or categorizing physical metrics into ranges and avoid drawing attention to specific individuals. \n",
    "\n",
    "Our analysis will focus on identifying performance related patterns associated with being drafted without implying judgment of players' inherent ability or value. The intention isn’t to reinforce or replicate scouting but to explore whether certain quantifiable features are consistently correlated with draft status. However, as noted in the background of the project, scouting and drafting processes themselves are not always rational or objective. For example Craig & Winchester (2021) found that rushing ability among quarterbacks is often undervalued despite its significant contribution to NFL success, suggesting the presence of bias in talent evaluations. Wolfson (2021) argued that the NFL draft outcomes are affected by both randomness and the overvaluation of certain traits, which can affect long term success predictions. Therefore we will audit our data for imbalances, for example between Power Five and non Power Five conferences, and avoid including features that serve as proxies for race or socioeconomic status unless we are explicitly analyzing their impact on our data. Our goal is not to predict player “worth” but to better understand how past decisions have been made and if there's any patterns, can we use those patterns to predict accurately if they will be drafted?\n"
   ]
  },
  {
   "cell_type": "markdown",
   "metadata": {},
   "source": [
    "# Team Expectations "
   ]
  },
  {
   "cell_type": "markdown",
   "metadata": {},
   "source": [
    "We use Discord for all team communication, and everyone must check and respond within 24 hours.\n",
    "\n",
    "Each member must contribute to at least two meaningful opinions for each assignment discussion.\n",
    "\n",
    "It is acceptable to tag others for reminders.\n",
    "\n",
    "If you will be unavailable for the day of an assignment, inform the group ahead of time.\n",
    "\n",
    "Everyone must be responsive and available the day before and the day of each major deadline.\n"
   ]
  },
  {
   "cell_type": "markdown",
   "metadata": {},
   "source": [
    "# Project Timeline Proposal"
   ]
  },
  {
   "cell_type": "markdown",
   "metadata": {},
   "source": [
    "Specify your team's specific project timeline. An example timeline has been provided. Changes the dates, times, names, and details to fit your group's plan.\n",
    "\n",
    "If you think you will need any special resources or training outside what we have covered in COGS 108 to solve your problem, then your proposal should state these clearly. For example, if you have selected a problem that involves implementing multiple neural networks, please state this so we can make sure you know what you’re doing and so we can point you to resources you will need to implement your project. Note that you are not required to use outside methods.\n",
    "\n",
    "\n",
    "\n",
    "| Meeting Date  | Meeting Time| Completed Before Meeting  | Discuss at Meeting |\n",
    "|---|---|---|---|\n",
    "| 5/6  |  8 PM | Search for additional datasets  | Choosing final datasets | \n",
    "| 5/12  |  8 PM |  Working on data checkpoint | Making sure data checkpoint assignment is on track/ready to submit  | \n",
    "| 5/19  | 8 PM  | Work on EDA, import and wrangle data   | Discuss Wrangling and possible analytical approaches; Assign group members to lead each specific part, thinking about visualizations   |\n",
    "| 5/26  | 8 PM  | Prepare for EDA submission | Review/Edit wrangling/EDA; Discuss Analysis Plan   |\n",
    "| 6/2  | 8 PM  | Working on analysis | Discuss/edit Analysis; plan time for video part of project and what we will need  |\n",
    "| 6/9  | 8 PM  | Complete analysis; Draft results/conclusion/discussion. Ideally, should be done with recording video and project| Discuss/edit full project and video |\n",
    "| 6/11  | Before 11:59 PM  | NA | Turn in Final Project & Group Project Surveys |"
   ]
  }
 ],
 "metadata": {
  "kernelspec": {
   "display_name": "Python 3 (ipykernel)",
   "language": "python",
   "name": "python3"
  },
  "language_info": {
   "codemirror_mode": {
    "name": "ipython",
    "version": 3
   },
   "file_extension": ".py",
   "mimetype": "text/x-python",
   "name": "python",
   "nbconvert_exporter": "python",
   "pygments_lexer": "ipython3",
   "version": "3.9.7"
  }
 },
 "nbformat": 4,
 "nbformat_minor": 2
}
